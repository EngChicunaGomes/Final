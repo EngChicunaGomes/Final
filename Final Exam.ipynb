{
 "cells": [
  {
   "cell_type": "markdown",
   "id": "75e62a10",
   "metadata": {},
   "source": [
    "# My Jupyter Notebook on IBM Watson Studio"
   ]
  },
  {
   "cell_type": "markdown",
   "id": "8ceaf866",
   "metadata": {},
   "source": [
    "**Antonio Gomes**\n",
    "<br> Data Scientist at Chevron"
   ]
  },
  {
   "cell_type": "markdown",
   "id": "6f030f97",
   "metadata": {},
   "source": [
    "*I am interested in Data Science because I wantto improve my analytical skills*"
   ]
  },
  {
   "cell_type": "markdown",
   "id": "04f00a77",
   "metadata": {},
   "source": [
    "### The following function should add 1 to our value"
   ]
  },
  {
   "cell_type": "code",
   "execution_count": 2,
   "id": "33b9742e",
   "metadata": {},
   "outputs": [
    {
     "data": {
      "text/plain": [
       "101"
      ]
     },
     "execution_count": 2,
     "metadata": {},
     "output_type": "execute_result"
    }
   ],
   "source": [
    "def plus_one(n):\n",
    "    return n+1\n",
    "\n",
    "plus_one(100)"
   ]
  },
  {
   "cell_type": "markdown",
   "id": "2c925c46",
   "metadata": {},
   "source": [
    "There are 4 basics arythmeric operation\n",
    "***\n",
    "+ Addition\n",
    "- Subtraction\n",
    "* Multiplication and\n",
    "* Division\n",
    "\n",
    "<a href=\"https://en.wikipedia.org/wiki/Operation_(mathematics)\">Wikipedia: Arithmetic Operations</a>\n",
    "\n",
    "|Operation | Sign|\n",
    "|----------|:-----|\n",
    "|*Addition*|   +  |\n",
    "|*Subtraction*|-|\n",
    "|*Multilication*|x|\n",
    "|*Division*| /    |\n"
   ]
  },
  {
   "cell_type": "code",
   "execution_count": null,
   "id": "5d33715b",
   "metadata": {},
   "outputs": [],
   "source": []
  }
 ],
 "metadata": {
  "kernelspec": {
   "display_name": "Python 3",
   "language": "python",
   "name": "python3"
  },
  "language_info": {
   "codemirror_mode": {
    "name": "ipython",
    "version": 3
   },
   "file_extension": ".py",
   "mimetype": "text/x-python",
   "name": "python",
   "nbconvert_exporter": "python",
   "pygments_lexer": "ipython3",
   "version": "3.8.8"
  }
 },
 "nbformat": 4,
 "nbformat_minor": 5
}
